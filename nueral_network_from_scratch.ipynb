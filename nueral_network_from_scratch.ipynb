{
  "nbformat": 4,
  "nbformat_minor": 0,
  "metadata": {
    "colab": {
      "provenance": []
    },
    "kernelspec": {
      "name": "python3",
      "display_name": "Python 3"
    },
    "language_info": {
      "name": "python"
    }
  },
  "cells": [
    {
      "cell_type": "code",
      "execution_count": 20,
      "metadata": {
        "id": "VNusy6a1ZM8J"
      },
      "outputs": [],
      "source": [
        "#imports\n",
        "import pandas as pd\n",
        "import numpy as np\n",
        "from matplotlib import pyplot as plt"
      ]
    },
    {
      "cell_type": "code",
      "source": [
        "train = pd.read_csv('train.csv')\n",
        "test = pd.read_csv('test.csv')"
      ],
      "metadata": {
        "id": "R2q-ycWzZyLE"
      },
      "execution_count": 21,
      "outputs": []
    },
    {
      "cell_type": "code",
      "source": [
        "#importing data and splitting into training and testing\n",
        "data = np.array(train)\n",
        "m,n = data.shape\n",
        "np.random.shuffle(data)\n",
        "\n",
        "data_dev = data[0:1000].T\n",
        "Y_dev = data_dev[0]\n",
        "X_dev = data_dev[1:n]\n",
        "X_dev = X_dev/255\n",
        "\n",
        "data_train = data[1000:m].T\n",
        "Y_train = data_train[0]\n",
        "X_train = data_train[1:n]\n",
        "X_train = X_train/255\n"
      ],
      "metadata": {
        "id": "wLs4TRUbbW6V"
      },
      "execution_count": 22,
      "outputs": []
    },
    {
      "cell_type": "code",
      "source": [
        "def init_params():\n",
        "  W1 = np.random.randn(10,784) / np.sqrt(784)\n",
        "  b1 = np.random.randn(10,1)\n",
        "  W2 = np.random.randn(10,10) / np.sqrt(10)\n",
        "  b2 = np.random.randn(10,1)\n",
        "  return W1,b1,W2,b2"
      ],
      "metadata": {
        "id": "eOageZFPjsI5"
      },
      "execution_count": 40,
      "outputs": []
    },
    {
      "cell_type": "code",
      "source": [
        "#this defines the activator function for the first layer\n",
        "def ReLU(x):\n",
        "  return np.maximum(x,0)"
      ],
      "metadata": {
        "id": "MlVK4Pa_keej"
      },
      "execution_count": 24,
      "outputs": []
    },
    {
      "cell_type": "code",
      "source": [
        "#this defines the activator function for the last layer\n",
        "def softmax(x):\n",
        "  A = np.exp(x)/sum(np.exp(x))  # Subtracting max for numerical stability\n",
        "  return A"
      ],
      "metadata": {
        "id": "nEIKxV81k1NK"
      },
      "execution_count": 25,
      "outputs": []
    },
    {
      "cell_type": "code",
      "source": [
        "def forward_prop(W1, b1, W2, b2, X):\n",
        "  Z1 = W1.dot(X) + b1\n",
        "  A1 = ReLU(Z1)\n",
        "  Z2 = W2.dot(A1)\n",
        "  A2 = softmax(Z2)\n",
        "  return Z1, A1, Z2, A2"
      ],
      "metadata": {
        "id": "Lq-DDj_RkRnK"
      },
      "execution_count": 26,
      "outputs": []
    },
    {
      "cell_type": "code",
      "source": [
        "#this function ecodes the output array to a 10x1 matrix of 0s and 1s\n",
        "def one_hot(Y):\n",
        "  one_hot = np.zeros((Y.size, Y.max()+1))\n",
        "  one_hot[np.arange(Y.size), Y] = 1\n",
        "  one_hot = one_hot.T\n",
        "  return one_hot\n"
      ],
      "metadata": {
        "id": "tro1FqTTljko"
      },
      "execution_count": 27,
      "outputs": []
    },
    {
      "cell_type": "code",
      "source": [
        "def deriv_ReLU(x):\n",
        "  return x>0"
      ],
      "metadata": {
        "id": "gdZtX50Wob30"
      },
      "execution_count": 28,
      "outputs": []
    },
    {
      "cell_type": "code",
      "source": [
        "def back_prop(Z1, A1, Z2, A2, W2,X, Y):\n",
        "  #m = Y.size\n",
        "\n",
        "  one_hot_Y = one_hot(Y)\n",
        "  dZ2 = A2 - one_hot_Y\n",
        "  dW2 = 1/m*dZ2.dot(A1.T)\n",
        "  db2 = 1/m*np.sum(dZ2)\n",
        "  dZ1 = W2.T.dot(dZ2)*deriv_ReLU(Z1)\n",
        "  dW1 = 1/m*dZ1.dot(X.T)\n",
        "  db1 = 1/m*np.sum(dZ1)\n",
        "  return dW1,db1,dW2,db2\n"
      ],
      "metadata": {
        "id": "YG_7sXKslS4y"
      },
      "execution_count": 38,
      "outputs": []
    },
    {
      "cell_type": "code",
      "source": [
        "def update_params(W1, b1, W2, b2, dW1, db1, dW2, db2, alpha ):\n",
        "  W1 = W1 - alpha*dW1\n",
        "  b1 = b1 - alpha*db1\n",
        "  W2 = W2 - alpha*dW2\n",
        "  b2 = b2 - alpha*db2\n",
        "  return W1, b1, W2, b2"
      ],
      "metadata": {
        "id": "iooz_YECvGws"
      },
      "execution_count": 30,
      "outputs": []
    },
    {
      "cell_type": "code",
      "source": [
        "def get_predictions(A2):\n",
        "  return np.argmax(A2, 0)"
      ],
      "metadata": {
        "id": "ripEKdOLwt08"
      },
      "execution_count": 31,
      "outputs": []
    },
    {
      "cell_type": "code",
      "source": [
        "def get_accuracy(predictions, Y):\n",
        "  #print(predictions, Y)\n",
        "  return np.sum(predictions == Y)/Y.size"
      ],
      "metadata": {
        "id": "LIa0DxxLwzGG"
      },
      "execution_count": 32,
      "outputs": []
    },
    {
      "cell_type": "code",
      "source": [
        "def gradient_descent(X, Y, iterations, alpha):\n",
        "  W1, b1, W2, b2 = init_params()\n",
        "  for i in range(iterations):\n",
        "    Z1, A1, Z2, A2 = forward_prop(W1, b1, W2, b2, X)\n",
        "    dW1, db1, dW2, db2 = back_prop(Z1, A1, Z2, A2, W2,X, Y)\n",
        "    W1, b1, W2, b2 = update_params(W1, b1, W2, b2, dW1, db1, dW2, db2, alpha)\n",
        "    if i % 10 == 0:\n",
        "      print('Iterations: ', i)\n",
        "      print('Accuracy: ', get_accuracy(get_predictions(A2), Y))\n",
        "  return W1, b1, W2, b2\n",
        "\n",
        "\n"
      ],
      "metadata": {
        "id": "s6nNFO-9vo6H"
      },
      "execution_count": 33,
      "outputs": []
    },
    {
      "cell_type": "code",
      "source": [
        "def make_predictions(X, W1, b1, W2, b2):\n",
        "    _, _, _, A2 = forward_prop(W1, b1, W2, b2, X)\n",
        "    predictions = get_predictions(A2)\n",
        "    return predictions\n",
        "\n",
        "def test_prediction(index, W1, b1, W2, b2):\n",
        "    current_image = X_train[:, index, None]\n",
        "    prediction = make_predictions(X_train[:, index, None], W1, b1, W2, b2)\n",
        "    label = Y_train[index]\n",
        "    print(\"Prediction: \", prediction)\n",
        "    print(\"Label: \", label)\n",
        "\n",
        "    current_image = current_image.reshape((28, 28)) * 255\n",
        "    plt.gray()\n",
        "    plt.imshow(current_image, interpolation='nearest')\n",
        "    plt.show()"
      ],
      "metadata": {
        "id": "V26Lo0hQoZKO"
      },
      "execution_count": 44,
      "outputs": []
    },
    {
      "cell_type": "code",
      "source": [
        "W1, b1, W2, b2 = gradient_descent(X_train, Y_train, 200, 0.2)"
      ],
      "metadata": {
        "colab": {
          "base_uri": "https://localhost:8080/"
        },
        "id": "2XvwG4oYxQDP",
        "outputId": "82614654-3e6e-490c-83e0-2dc525108b6e"
      },
      "execution_count": 47,
      "outputs": [
        {
          "output_type": "stream",
          "name": "stdout",
          "text": [
            "Iterations:  0\n",
            "Accuracy:  0.10429268292682926\n",
            "Iterations:  10\n",
            "Accuracy:  0.45826829268292685\n",
            "Iterations:  20\n",
            "Accuracy:  0.6712682926829269\n",
            "Iterations:  30\n",
            "Accuracy:  0.7460731707317073\n",
            "Iterations:  40\n",
            "Accuracy:  0.7825609756097561\n",
            "Iterations:  50\n",
            "Accuracy:  0.804609756097561\n",
            "Iterations:  60\n",
            "Accuracy:  0.820170731707317\n",
            "Iterations:  70\n",
            "Accuracy:  0.833\n",
            "Iterations:  80\n",
            "Accuracy:  0.8418536585365853\n",
            "Iterations:  90\n",
            "Accuracy:  0.8493658536585366\n",
            "Iterations:  100\n",
            "Accuracy:  0.8559024390243902\n",
            "Iterations:  110\n",
            "Accuracy:  0.8623170731707317\n",
            "Iterations:  120\n",
            "Accuracy:  0.8670975609756097\n",
            "Iterations:  130\n",
            "Accuracy:  0.8711219512195122\n",
            "Iterations:  140\n",
            "Accuracy:  0.8746341463414634\n",
            "Iterations:  150\n",
            "Accuracy:  0.8780975609756098\n",
            "Iterations:  160\n",
            "Accuracy:  0.8809512195121951\n",
            "Iterations:  170\n",
            "Accuracy:  0.8835365853658537\n",
            "Iterations:  180\n",
            "Accuracy:  0.8855365853658537\n",
            "Iterations:  190\n",
            "Accuracy:  0.8875853658536585\n"
          ]
        }
      ]
    },
    {
      "cell_type": "code",
      "source": [
        "test_prediction(0, W1, b1, W2, b2)\n",
        "test_prediction(1, W1, b1, W2, b2)\n",
        "test_prediction(2, W1, b1, W2, b2)\n",
        "test_prediction(3, W1, b1, W2, b2)"
      ],
      "metadata": {
        "colab": {
          "base_uri": "https://localhost:8080/",
          "height": 1000
        },
        "id": "zY-3RiAWo-qx",
        "outputId": "8e542088-9a38-4f6f-9127-7c72d98202de"
      },
      "execution_count": 46,
      "outputs": [
        {
          "output_type": "stream",
          "name": "stdout",
          "text": [
            "Prediction:  [9]\n",
            "Label:  7\n"
          ]
        },
        {
          "output_type": "display_data",
          "data": {
            "text/plain": [
              "<Figure size 640x480 with 1 Axes>"
            ],
            "image/png": "[encoded data removed]"
          },
          "metadata": {}
        },
        {
          "output_type": "stream",
          "name": "stdout",
          "text": [
            "Prediction:  [9]\n",
            "Label:  9\n"
          ]
        },
        {
          "output_type": "display_data",
          "data": {
            "text/plain": [
              "<Figure size 640x480 with 1 Axes>"
            ],
            "image/png": "[encoded data removed]"
          },
          "metadata": {}
        },
        {
          "output_type": "stream",
          "name": "stdout",
          "text": [
            "Prediction:  [1]\n",
            "Label:  1\n"
          ]
        },
        {
          "output_type": "display_data",
          "data": {
            "text/plain": [
              "<Figure size 640x480 with 1 Axes>"
            ],
            "image/png": "[encoded data removed]"
          },
          "metadata": {}
        },
        {
          "output_type": "stream",
          "name": "stdout",
          "text": [
            "Prediction:  [3]\n",
            "Label:  3\n"
          ]
        },
        {
          "output_type": "display_data",
          "data": {
            "text/plain": [
              "<Figure size 640x480 with 1 Axes>"
            ],
            "image/png": "[encoded data removed]"
          },
          "metadata": {}
        }
      ]
    }
  ]
}